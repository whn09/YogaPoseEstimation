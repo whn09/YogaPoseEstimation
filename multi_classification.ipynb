{
 "cells": [
  {
   "cell_type": "code",
   "execution_count": 3,
   "id": "3b60a80d-e52b-4b38-8052-badfb5aa60c2",
   "metadata": {
    "tags": []
   },
   "outputs": [],
   "source": [
    "import pickle\n",
    "import numpy as np\n",
    "import pandas as pd\n",
    "import xgboost as xgb\n",
    "from xgboost import XGBClassifier\n",
    "from multiprocessing import cpu_count"
   ]
  },
  {
   "cell_type": "code",
   "execution_count": 4,
   "id": "4663eda8-3f77-49fd-a437-b6bde4910857",
   "metadata": {
    "tags": []
   },
   "outputs": [],
   "source": [
    "dataset = pd.read_csv('yoga/data.csv', names=['label']+['f'+str(i) for i in range(8)])"
   ]
  },
  {
   "cell_type": "code",
   "execution_count": 5,
   "id": "763a35f0-22d9-40b4-a4ad-0b83d1702dc2",
   "metadata": {
    "tags": []
   },
   "outputs": [
    {
     "data": {
      "text/plain": [
       "array(['boundAngle', 'catCow', 'chairPose', 'cobra', 'downwardDog',\n",
       "       'forwardBend', 'garland', 'halfForwardBend', 'highLunge', 'plank',\n",
       "       'reverseWarrior', 'seatedSpinalTwist', 'threeLegDownwardDog',\n",
       "       'tree', 'triangle'], dtype=object)"
      ]
     },
     "execution_count": 5,
     "metadata": {},
     "output_type": "execute_result"
    }
   ],
   "source": [
    "dataset['label'].unique()"
   ]
  },
  {
   "cell_type": "code",
   "execution_count": 6,
   "id": "7dfa4c13-0934-466a-bdc3-97b9e681c114",
   "metadata": {
    "tags": []
   },
   "outputs": [
    {
     "data": {
      "text/html": [
       "<div>\n",
       "<style scoped>\n",
       "    .dataframe tbody tr th:only-of-type {\n",
       "        vertical-align: middle;\n",
       "    }\n",
       "\n",
       "    .dataframe tbody tr th {\n",
       "        vertical-align: top;\n",
       "    }\n",
       "\n",
       "    .dataframe thead th {\n",
       "        text-align: right;\n",
       "    }\n",
       "</style>\n",
       "<table border=\"1\" class=\"dataframe\">\n",
       "  <thead>\n",
       "    <tr style=\"text-align: right;\">\n",
       "      <th></th>\n",
       "      <th>label</th>\n",
       "      <th>f0</th>\n",
       "      <th>f1</th>\n",
       "      <th>f2</th>\n",
       "      <th>f3</th>\n",
       "      <th>f4</th>\n",
       "      <th>f5</th>\n",
       "      <th>f6</th>\n",
       "      <th>f7</th>\n",
       "    </tr>\n",
       "  </thead>\n",
       "  <tbody>\n",
       "    <tr>\n",
       "      <th>0</th>\n",
       "      <td>boundAngle</td>\n",
       "      <td>0.17182845</td>\n",
       "      <td>0.31369594</td>\n",
       "      <td>2.7332203</td>\n",
       "      <td>2.5956583</td>\n",
       "      <td>1.4983823</td>\n",
       "      <td>1.6281252</td>\n",
       "      <td>0.55975443</td>\n",
       "      <td>0.44876382</td>\n",
       "    </tr>\n",
       "    <tr>\n",
       "      <th>1</th>\n",
       "      <td>boundAngle</td>\n",
       "      <td>0.29936314</td>\n",
       "      <td>0.36287594</td>\n",
       "      <td>2.479978</td>\n",
       "      <td>2.3593185</td>\n",
       "      <td>1.8934284</td>\n",
       "      <td>1.7367698</td>\n",
       "      <td>NaN</td>\n",
       "      <td>NaN</td>\n",
       "    </tr>\n",
       "    <tr>\n",
       "      <th>2</th>\n",
       "      <td>boundAngle</td>\n",
       "      <td>0.17372319</td>\n",
       "      <td>0.27472997</td>\n",
       "      <td>2.728917</td>\n",
       "      <td>2.5760143</td>\n",
       "      <td>1.4975827</td>\n",
       "      <td>1.7113018</td>\n",
       "      <td>0.5035153</td>\n",
       "      <td>0.504198</td>\n",
       "    </tr>\n",
       "    <tr>\n",
       "      <th>3</th>\n",
       "      <td>boundAngle</td>\n",
       "      <td>0.16526209</td>\n",
       "      <td>0.39916334</td>\n",
       "      <td>2.8196332</td>\n",
       "      <td>2.4437644</td>\n",
       "      <td>1.4055347</td>\n",
       "      <td>1.5379938</td>\n",
       "      <td>0.48966628</td>\n",
       "      <td>0.42372385</td>\n",
       "    </tr>\n",
       "    <tr>\n",
       "      <th>4</th>\n",
       "      <td>boundAngle</td>\n",
       "      <td>0.18356708</td>\n",
       "      <td>0.29015994</td>\n",
       "      <td>2.7066605</td>\n",
       "      <td>2.6916287</td>\n",
       "      <td>1.4934255</td>\n",
       "      <td>1.5314277</td>\n",
       "      <td>NaN</td>\n",
       "      <td>NaN</td>\n",
       "    </tr>\n",
       "    <tr>\n",
       "      <th>...</th>\n",
       "      <td>...</td>\n",
       "      <td>...</td>\n",
       "      <td>...</td>\n",
       "      <td>...</td>\n",
       "      <td>...</td>\n",
       "      <td>...</td>\n",
       "      <td>...</td>\n",
       "      <td>...</td>\n",
       "      <td>...</td>\n",
       "    </tr>\n",
       "    <tr>\n",
       "      <th>474</th>\n",
       "      <td>triangle</td>\n",
       "      <td>1.4245515</td>\n",
       "      <td>1.1607268</td>\n",
       "      <td>2.6008315</td>\n",
       "      <td>2.8499222</td>\n",
       "      <td>2.3884563</td>\n",
       "      <td>1.0140768</td>\n",
       "      <td>3.1169133</td>\n",
       "      <td>1.2575086</td>\n",
       "    </tr>\n",
       "    <tr>\n",
       "      <th>475</th>\n",
       "      <td>triangle</td>\n",
       "      <td>1.428369</td>\n",
       "      <td>1.1614816</td>\n",
       "      <td>2.9820669</td>\n",
       "      <td>2.8512406</td>\n",
       "      <td>2.3883684</td>\n",
       "      <td>1.0169783</td>\n",
       "      <td>3.1169932</td>\n",
       "      <td>1.2614369</td>\n",
       "    </tr>\n",
       "    <tr>\n",
       "      <th>476</th>\n",
       "      <td>triangle</td>\n",
       "      <td>1.432603</td>\n",
       "      <td>1.1623075</td>\n",
       "      <td>2.9825828</td>\n",
       "      <td>2.8526945</td>\n",
       "      <td>2.3882842</td>\n",
       "      <td>1.020195</td>\n",
       "      <td>3.1170733</td>\n",
       "      <td>1.2657948</td>\n",
       "    </tr>\n",
       "    <tr>\n",
       "      <th>477</th>\n",
       "      <td>triangle</td>\n",
       "      <td>1.4309102</td>\n",
       "      <td>1.1619793</td>\n",
       "      <td>2.604349</td>\n",
       "      <td>2.852115</td>\n",
       "      <td>2.3883157</td>\n",
       "      <td>1.0189095</td>\n",
       "      <td>3.1170416</td>\n",
       "      <td>1.2640527</td>\n",
       "    </tr>\n",
       "    <tr>\n",
       "      <th>478</th>\n",
       "      <td>triangle</td>\n",
       "      <td>1.4251053</td>\n",
       "      <td>1.1608372</td>\n",
       "      <td>2.6011386</td>\n",
       "      <td>2.8501139</td>\n",
       "      <td>2.388443</td>\n",
       "      <td>1.0144974</td>\n",
       "      <td>3.1169255</td>\n",
       "      <td>1.2580781</td>\n",
       "    </tr>\n",
       "  </tbody>\n",
       "</table>\n",
       "<p>479 rows × 9 columns</p>\n",
       "</div>"
      ],
      "text/plain": [
       "          label          f0          f1         f2         f3         f4   \n",
       "0    boundAngle  0.17182845  0.31369594  2.7332203  2.5956583  1.4983823  \\\n",
       "1    boundAngle  0.29936314  0.36287594   2.479978  2.3593185  1.8934284   \n",
       "2    boundAngle  0.17372319  0.27472997   2.728917  2.5760143  1.4975827   \n",
       "3    boundAngle  0.16526209  0.39916334  2.8196332  2.4437644  1.4055347   \n",
       "4    boundAngle  0.18356708  0.29015994  2.7066605  2.6916287  1.4934255   \n",
       "..          ...         ...         ...        ...        ...        ...   \n",
       "474    triangle   1.4245515   1.1607268  2.6008315  2.8499222  2.3884563   \n",
       "475    triangle    1.428369   1.1614816  2.9820669  2.8512406  2.3883684   \n",
       "476    triangle    1.432603   1.1623075  2.9825828  2.8526945  2.3882842   \n",
       "477    triangle   1.4309102   1.1619793   2.604349   2.852115  2.3883157   \n",
       "478    triangle   1.4251053   1.1608372  2.6011386  2.8501139   2.388443   \n",
       "\n",
       "            f5          f6          f7  \n",
       "0    1.6281252  0.55975443  0.44876382  \n",
       "1    1.7367698         NaN         NaN  \n",
       "2    1.7113018   0.5035153    0.504198  \n",
       "3    1.5379938  0.48966628  0.42372385  \n",
       "4    1.5314277         NaN         NaN  \n",
       "..         ...         ...         ...  \n",
       "474  1.0140768   3.1169133   1.2575086  \n",
       "475  1.0169783   3.1169932   1.2614369  \n",
       "476   1.020195   3.1170733   1.2657948  \n",
       "477  1.0189095   3.1170416   1.2640527  \n",
       "478  1.0144974   3.1169255   1.2580781  \n",
       "\n",
       "[479 rows x 9 columns]"
      ]
     },
     "execution_count": 6,
     "metadata": {},
     "output_type": "execute_result"
    }
   ],
   "source": [
    "dataset"
   ]
  },
  {
   "cell_type": "code",
   "execution_count": 7,
   "id": "f5d627b0-eae1-4e1d-a05a-44b0dd34be2b",
   "metadata": {
    "tags": []
   },
   "outputs": [
    {
     "name": "stdout",
     "output_type": "stream",
     "text": [
      "poses: 15\n"
     ]
    }
   ],
   "source": [
    "poses = ['boundAngle', 'catCow', 'chairPose', 'cobra', 'downwardDog',\n",
    "       'forwardBend', 'garland', 'halfForwardBend', 'highLunge', 'plank',\n",
    "       'reverseWarrior', 'seatedSpinalTwist', 'threeLegDownwardDog',\n",
    "       'tree', 'triangle']\n",
    "print('poses:', len(poses))"
   ]
  },
  {
   "cell_type": "code",
   "execution_count": 8,
   "id": "d57b888f-17a5-4c77-9faa-b212d8eb94af",
   "metadata": {
    "tags": []
   },
   "outputs": [],
   "source": [
    "dataset['label'] = dataset['label'].apply(lambda x: poses.index(x))"
   ]
  },
  {
   "cell_type": "code",
   "execution_count": 9,
   "id": "2cd4ee70-66b2-4c28-a1d3-729adc475f7a",
   "metadata": {
    "tags": []
   },
   "outputs": [
    {
     "data": {
      "text/html": [
       "<div>\n",
       "<style scoped>\n",
       "    .dataframe tbody tr th:only-of-type {\n",
       "        vertical-align: middle;\n",
       "    }\n",
       "\n",
       "    .dataframe tbody tr th {\n",
       "        vertical-align: top;\n",
       "    }\n",
       "\n",
       "    .dataframe thead th {\n",
       "        text-align: right;\n",
       "    }\n",
       "</style>\n",
       "<table border=\"1\" class=\"dataframe\">\n",
       "  <thead>\n",
       "    <tr style=\"text-align: right;\">\n",
       "      <th></th>\n",
       "      <th>label</th>\n",
       "      <th>f0</th>\n",
       "      <th>f1</th>\n",
       "      <th>f2</th>\n",
       "      <th>f3</th>\n",
       "      <th>f4</th>\n",
       "      <th>f5</th>\n",
       "      <th>f6</th>\n",
       "      <th>f7</th>\n",
       "    </tr>\n",
       "  </thead>\n",
       "  <tbody>\n",
       "    <tr>\n",
       "      <th>0</th>\n",
       "      <td>0</td>\n",
       "      <td>0.17182845</td>\n",
       "      <td>0.31369594</td>\n",
       "      <td>2.7332203</td>\n",
       "      <td>2.5956583</td>\n",
       "      <td>1.4983823</td>\n",
       "      <td>1.6281252</td>\n",
       "      <td>0.55975443</td>\n",
       "      <td>0.44876382</td>\n",
       "    </tr>\n",
       "    <tr>\n",
       "      <th>1</th>\n",
       "      <td>0</td>\n",
       "      <td>0.29936314</td>\n",
       "      <td>0.36287594</td>\n",
       "      <td>2.479978</td>\n",
       "      <td>2.3593185</td>\n",
       "      <td>1.8934284</td>\n",
       "      <td>1.7367698</td>\n",
       "      <td>NaN</td>\n",
       "      <td>NaN</td>\n",
       "    </tr>\n",
       "    <tr>\n",
       "      <th>2</th>\n",
       "      <td>0</td>\n",
       "      <td>0.17372319</td>\n",
       "      <td>0.27472997</td>\n",
       "      <td>2.728917</td>\n",
       "      <td>2.5760143</td>\n",
       "      <td>1.4975827</td>\n",
       "      <td>1.7113018</td>\n",
       "      <td>0.5035153</td>\n",
       "      <td>0.504198</td>\n",
       "    </tr>\n",
       "    <tr>\n",
       "      <th>3</th>\n",
       "      <td>0</td>\n",
       "      <td>0.16526209</td>\n",
       "      <td>0.39916334</td>\n",
       "      <td>2.8196332</td>\n",
       "      <td>2.4437644</td>\n",
       "      <td>1.4055347</td>\n",
       "      <td>1.5379938</td>\n",
       "      <td>0.48966628</td>\n",
       "      <td>0.42372385</td>\n",
       "    </tr>\n",
       "    <tr>\n",
       "      <th>4</th>\n",
       "      <td>0</td>\n",
       "      <td>0.18356708</td>\n",
       "      <td>0.29015994</td>\n",
       "      <td>2.7066605</td>\n",
       "      <td>2.6916287</td>\n",
       "      <td>1.4934255</td>\n",
       "      <td>1.5314277</td>\n",
       "      <td>NaN</td>\n",
       "      <td>NaN</td>\n",
       "    </tr>\n",
       "    <tr>\n",
       "      <th>...</th>\n",
       "      <td>...</td>\n",
       "      <td>...</td>\n",
       "      <td>...</td>\n",
       "      <td>...</td>\n",
       "      <td>...</td>\n",
       "      <td>...</td>\n",
       "      <td>...</td>\n",
       "      <td>...</td>\n",
       "      <td>...</td>\n",
       "    </tr>\n",
       "    <tr>\n",
       "      <th>474</th>\n",
       "      <td>14</td>\n",
       "      <td>1.4245515</td>\n",
       "      <td>1.1607268</td>\n",
       "      <td>2.6008315</td>\n",
       "      <td>2.8499222</td>\n",
       "      <td>2.3884563</td>\n",
       "      <td>1.0140768</td>\n",
       "      <td>3.1169133</td>\n",
       "      <td>1.2575086</td>\n",
       "    </tr>\n",
       "    <tr>\n",
       "      <th>475</th>\n",
       "      <td>14</td>\n",
       "      <td>1.428369</td>\n",
       "      <td>1.1614816</td>\n",
       "      <td>2.9820669</td>\n",
       "      <td>2.8512406</td>\n",
       "      <td>2.3883684</td>\n",
       "      <td>1.0169783</td>\n",
       "      <td>3.1169932</td>\n",
       "      <td>1.2614369</td>\n",
       "    </tr>\n",
       "    <tr>\n",
       "      <th>476</th>\n",
       "      <td>14</td>\n",
       "      <td>1.432603</td>\n",
       "      <td>1.1623075</td>\n",
       "      <td>2.9825828</td>\n",
       "      <td>2.8526945</td>\n",
       "      <td>2.3882842</td>\n",
       "      <td>1.020195</td>\n",
       "      <td>3.1170733</td>\n",
       "      <td>1.2657948</td>\n",
       "    </tr>\n",
       "    <tr>\n",
       "      <th>477</th>\n",
       "      <td>14</td>\n",
       "      <td>1.4309102</td>\n",
       "      <td>1.1619793</td>\n",
       "      <td>2.604349</td>\n",
       "      <td>2.852115</td>\n",
       "      <td>2.3883157</td>\n",
       "      <td>1.0189095</td>\n",
       "      <td>3.1170416</td>\n",
       "      <td>1.2640527</td>\n",
       "    </tr>\n",
       "    <tr>\n",
       "      <th>478</th>\n",
       "      <td>14</td>\n",
       "      <td>1.4251053</td>\n",
       "      <td>1.1608372</td>\n",
       "      <td>2.6011386</td>\n",
       "      <td>2.8501139</td>\n",
       "      <td>2.388443</td>\n",
       "      <td>1.0144974</td>\n",
       "      <td>3.1169255</td>\n",
       "      <td>1.2580781</td>\n",
       "    </tr>\n",
       "  </tbody>\n",
       "</table>\n",
       "<p>479 rows × 9 columns</p>\n",
       "</div>"
      ],
      "text/plain": [
       "     label          f0          f1         f2         f3         f4   \n",
       "0        0  0.17182845  0.31369594  2.7332203  2.5956583  1.4983823  \\\n",
       "1        0  0.29936314  0.36287594   2.479978  2.3593185  1.8934284   \n",
       "2        0  0.17372319  0.27472997   2.728917  2.5760143  1.4975827   \n",
       "3        0  0.16526209  0.39916334  2.8196332  2.4437644  1.4055347   \n",
       "4        0  0.18356708  0.29015994  2.7066605  2.6916287  1.4934255   \n",
       "..     ...         ...         ...        ...        ...        ...   \n",
       "474     14   1.4245515   1.1607268  2.6008315  2.8499222  2.3884563   \n",
       "475     14    1.428369   1.1614816  2.9820669  2.8512406  2.3883684   \n",
       "476     14    1.432603   1.1623075  2.9825828  2.8526945  2.3882842   \n",
       "477     14   1.4309102   1.1619793   2.604349   2.852115  2.3883157   \n",
       "478     14   1.4251053   1.1608372  2.6011386  2.8501139   2.388443   \n",
       "\n",
       "            f5          f6          f7  \n",
       "0    1.6281252  0.55975443  0.44876382  \n",
       "1    1.7367698         NaN         NaN  \n",
       "2    1.7113018   0.5035153    0.504198  \n",
       "3    1.5379938  0.48966628  0.42372385  \n",
       "4    1.5314277         NaN         NaN  \n",
       "..         ...         ...         ...  \n",
       "474  1.0140768   3.1169133   1.2575086  \n",
       "475  1.0169783   3.1169932   1.2614369  \n",
       "476   1.020195   3.1170733   1.2657948  \n",
       "477  1.0189095   3.1170416   1.2640527  \n",
       "478  1.0144974   3.1169255   1.2580781  \n",
       "\n",
       "[479 rows x 9 columns]"
      ]
     },
     "execution_count": 9,
     "metadata": {},
     "output_type": "execute_result"
    }
   ],
   "source": [
    "dataset"
   ]
  },
  {
   "cell_type": "code",
   "execution_count": 10,
   "id": "2baed61c-0da1-4bfe-ac45-67f57e77c61b",
   "metadata": {
    "tags": []
   },
   "outputs": [],
   "source": [
    "X = dataset[['f'+str(i) for i in range(8)]].values  \n",
    "y = dataset['label'].values"
   ]
  },
  {
   "cell_type": "code",
   "execution_count": 39,
   "id": "e9d42dad-6a39-4329-9409-088a8a7a383b",
   "metadata": {
    "tags": []
   },
   "outputs": [],
   "source": [
    "class_names = list(set(y))\n",
    "num_class = len(class_names)\n",
    "cores = cpu_count()\n",
    "\n",
    "clf = XGBClassifier(max_depth=6, \n",
    "                    learning_rate=0.01, \n",
    "                    n_estimators=300, \n",
    "                    objective='multi:softmax', \n",
    "                    n_jobs=cores, \n",
    "                    num_class=num_class)"
   ]
  },
  {
   "cell_type": "code",
   "execution_count": 40,
   "id": "2a725215-afe4-4b7f-ab07-4e73acad253a",
   "metadata": {
    "tags": []
   },
   "outputs": [
    {
     "data": {
      "text/html": [
       "<style>#sk-container-id-5 {color: black;background-color: white;}#sk-container-id-5 pre{padding: 0;}#sk-container-id-5 div.sk-toggleable {background-color: white;}#sk-container-id-5 label.sk-toggleable__label {cursor: pointer;display: block;width: 100%;margin-bottom: 0;padding: 0.3em;box-sizing: border-box;text-align: center;}#sk-container-id-5 label.sk-toggleable__label-arrow:before {content: \"▸\";float: left;margin-right: 0.25em;color: #696969;}#sk-container-id-5 label.sk-toggleable__label-arrow:hover:before {color: black;}#sk-container-id-5 div.sk-estimator:hover label.sk-toggleable__label-arrow:before {color: black;}#sk-container-id-5 div.sk-toggleable__content {max-height: 0;max-width: 0;overflow: hidden;text-align: left;background-color: #f0f8ff;}#sk-container-id-5 div.sk-toggleable__content pre {margin: 0.2em;color: black;border-radius: 0.25em;background-color: #f0f8ff;}#sk-container-id-5 input.sk-toggleable__control:checked~div.sk-toggleable__content {max-height: 200px;max-width: 100%;overflow: auto;}#sk-container-id-5 input.sk-toggleable__control:checked~label.sk-toggleable__label-arrow:before {content: \"▾\";}#sk-container-id-5 div.sk-estimator input.sk-toggleable__control:checked~label.sk-toggleable__label {background-color: #d4ebff;}#sk-container-id-5 div.sk-label input.sk-toggleable__control:checked~label.sk-toggleable__label {background-color: #d4ebff;}#sk-container-id-5 input.sk-hidden--visually {border: 0;clip: rect(1px 1px 1px 1px);clip: rect(1px, 1px, 1px, 1px);height: 1px;margin: -1px;overflow: hidden;padding: 0;position: absolute;width: 1px;}#sk-container-id-5 div.sk-estimator {font-family: monospace;background-color: #f0f8ff;border: 1px dotted black;border-radius: 0.25em;box-sizing: border-box;margin-bottom: 0.5em;}#sk-container-id-5 div.sk-estimator:hover {background-color: #d4ebff;}#sk-container-id-5 div.sk-parallel-item::after {content: \"\";width: 100%;border-bottom: 1px solid gray;flex-grow: 1;}#sk-container-id-5 div.sk-label:hover label.sk-toggleable__label {background-color: #d4ebff;}#sk-container-id-5 div.sk-serial::before {content: \"\";position: absolute;border-left: 1px solid gray;box-sizing: border-box;top: 0;bottom: 0;left: 50%;z-index: 0;}#sk-container-id-5 div.sk-serial {display: flex;flex-direction: column;align-items: center;background-color: white;padding-right: 0.2em;padding-left: 0.2em;position: relative;}#sk-container-id-5 div.sk-item {position: relative;z-index: 1;}#sk-container-id-5 div.sk-parallel {display: flex;align-items: stretch;justify-content: center;background-color: white;position: relative;}#sk-container-id-5 div.sk-item::before, #sk-container-id-5 div.sk-parallel-item::before {content: \"\";position: absolute;border-left: 1px solid gray;box-sizing: border-box;top: 0;bottom: 0;left: 50%;z-index: -1;}#sk-container-id-5 div.sk-parallel-item {display: flex;flex-direction: column;z-index: 1;position: relative;background-color: white;}#sk-container-id-5 div.sk-parallel-item:first-child::after {align-self: flex-end;width: 50%;}#sk-container-id-5 div.sk-parallel-item:last-child::after {align-self: flex-start;width: 50%;}#sk-container-id-5 div.sk-parallel-item:only-child::after {width: 0;}#sk-container-id-5 div.sk-dashed-wrapped {border: 1px dashed gray;margin: 0 0.4em 0.5em 0.4em;box-sizing: border-box;padding-bottom: 0.4em;background-color: white;}#sk-container-id-5 div.sk-label label {font-family: monospace;font-weight: bold;display: inline-block;line-height: 1.2em;}#sk-container-id-5 div.sk-label-container {text-align: center;}#sk-container-id-5 div.sk-container {/* jupyter's `normalize.less` sets `[hidden] { display: none; }` but bootstrap.min.css set `[hidden] { display: none !important; }` so we also need the `!important` here to be able to override the default hidden behavior on the sphinx rendered scikit-learn.org. See: https://github.com/scikit-learn/scikit-learn/issues/21755 */display: inline-block !important;position: relative;}#sk-container-id-5 div.sk-text-repr-fallback {display: none;}</style><div id=\"sk-container-id-5\" class=\"sk-top-container\"><div class=\"sk-text-repr-fallback\"><pre>XGBClassifier(base_score=None, booster=None, callbacks=None,\n",
       "              colsample_bylevel=None, colsample_bynode=None,\n",
       "              colsample_bytree=None, early_stopping_rounds=None,\n",
       "              enable_categorical=False, eval_metric=None, feature_types=None,\n",
       "              gamma=None, gpu_id=None, grow_policy=None, importance_type=None,\n",
       "              interaction_constraints=None, learning_rate=0.01, max_bin=None,\n",
       "              max_cat_threshold=None, max_cat_to_onehot=None,\n",
       "              max_delta_step=None, max_depth=6, max_leaves=None,\n",
       "              min_child_weight=None, missing=nan, monotone_constraints=None,\n",
       "              n_estimators=300, n_jobs=32, num_class=15, num_parallel_tree=None,\n",
       "              objective=&#x27;multi:softmax&#x27;, ...)</pre><b>In a Jupyter environment, please rerun this cell to show the HTML representation or trust the notebook. <br />On GitHub, the HTML representation is unable to render, please try loading this page with nbviewer.org.</b></div><div class=\"sk-container\" hidden><div class=\"sk-item\"><div class=\"sk-estimator sk-toggleable\"><input class=\"sk-toggleable__control sk-hidden--visually\" id=\"sk-estimator-id-5\" type=\"checkbox\" checked><label for=\"sk-estimator-id-5\" class=\"sk-toggleable__label sk-toggleable__label-arrow\">XGBClassifier</label><div class=\"sk-toggleable__content\"><pre>XGBClassifier(base_score=None, booster=None, callbacks=None,\n",
       "              colsample_bylevel=None, colsample_bynode=None,\n",
       "              colsample_bytree=None, early_stopping_rounds=None,\n",
       "              enable_categorical=False, eval_metric=None, feature_types=None,\n",
       "              gamma=None, gpu_id=None, grow_policy=None, importance_type=None,\n",
       "              interaction_constraints=None, learning_rate=0.01, max_bin=None,\n",
       "              max_cat_threshold=None, max_cat_to_onehot=None,\n",
       "              max_delta_step=None, max_depth=6, max_leaves=None,\n",
       "              min_child_weight=None, missing=nan, monotone_constraints=None,\n",
       "              n_estimators=300, n_jobs=32, num_class=15, num_parallel_tree=None,\n",
       "              objective=&#x27;multi:softmax&#x27;, ...)</pre></div></div></div></div></div>"
      ],
      "text/plain": [
       "XGBClassifier(base_score=None, booster=None, callbacks=None,\n",
       "              colsample_bylevel=None, colsample_bynode=None,\n",
       "              colsample_bytree=None, early_stopping_rounds=None,\n",
       "              enable_categorical=False, eval_metric=None, feature_types=None,\n",
       "              gamma=None, gpu_id=None, grow_policy=None, importance_type=None,\n",
       "              interaction_constraints=None, learning_rate=0.01, max_bin=None,\n",
       "              max_cat_threshold=None, max_cat_to_onehot=None,\n",
       "              max_delta_step=None, max_depth=6, max_leaves=None,\n",
       "              min_child_weight=None, missing=nan, monotone_constraints=None,\n",
       "              n_estimators=300, n_jobs=32, num_class=15, num_parallel_tree=None,\n",
       "              objective='multi:softmax', ...)"
      ]
     },
     "execution_count": 40,
     "metadata": {},
     "output_type": "execute_result"
    }
   ],
   "source": [
    "clf.fit(X, y, verbose=1)"
   ]
  },
  {
   "cell_type": "code",
   "execution_count": 41,
   "id": "7414e231-298f-4866-b74f-38fd4afb152c",
   "metadata": {
    "tags": []
   },
   "outputs": [],
   "source": [
    "filename = 'yoga/helpers/model/model_xgb.pkl'\n",
    "pickle.dump(clf, open(filename, 'wb'))"
   ]
  },
  {
   "cell_type": "code",
   "execution_count": 42,
   "id": "2f4d1945-e68b-48c1-90d5-cfeed7916d7c",
   "metadata": {
    "tags": []
   },
   "outputs": [],
   "source": [
    "y_pred = clf.predict(X)"
   ]
  },
  {
   "cell_type": "code",
   "execution_count": 43,
   "id": "d5bdafd0-c983-43be-9017-3f8dc6854fc2",
   "metadata": {
    "tags": []
   },
   "outputs": [],
   "source": [
    "from sklearn.metrics import accuracy_score, confusion_matrix"
   ]
  },
  {
   "cell_type": "code",
   "execution_count": 44,
   "id": "7f997be7-db36-4c91-80c0-111b6a06b9d7",
   "metadata": {
    "tags": []
   },
   "outputs": [
    {
     "data": {
      "text/plain": [
       "1.0"
      ]
     },
     "execution_count": 44,
     "metadata": {},
     "output_type": "execute_result"
    }
   ],
   "source": [
    "accuracy_score(y, y_pred)"
   ]
  },
  {
   "cell_type": "code",
   "execution_count": 45,
   "id": "8a7ab54b-fb39-4c3c-a66b-86716de2d843",
   "metadata": {
    "tags": []
   },
   "outputs": [
    {
     "data": {
      "text/plain": [
       "array([[38,  0,  0,  0,  0,  0,  0,  0,  0,  0,  0,  0,  0,  0,  0],\n",
       "       [ 0, 44,  0,  0,  0,  0,  0,  0,  0,  0,  0,  0,  0,  0,  0],\n",
       "       [ 0,  0, 26,  0,  0,  0,  0,  0,  0,  0,  0,  0,  0,  0,  0],\n",
       "       [ 0,  0,  0, 38,  0,  0,  0,  0,  0,  0,  0,  0,  0,  0,  0],\n",
       "       [ 0,  0,  0,  0, 38,  0,  0,  0,  0,  0,  0,  0,  0,  0,  0],\n",
       "       [ 0,  0,  0,  0,  0, 29,  0,  0,  0,  0,  0,  0,  0,  0,  0],\n",
       "       [ 0,  0,  0,  0,  0,  0, 41,  0,  0,  0,  0,  0,  0,  0,  0],\n",
       "       [ 0,  0,  0,  0,  0,  0,  0, 24,  0,  0,  0,  0,  0,  0,  0],\n",
       "       [ 0,  0,  0,  0,  0,  0,  0,  0, 35,  0,  0,  0,  0,  0,  0],\n",
       "       [ 0,  0,  0,  0,  0,  0,  0,  0,  0, 26,  0,  0,  0,  0,  0],\n",
       "       [ 0,  0,  0,  0,  0,  0,  0,  0,  0,  0, 26,  0,  0,  0,  0],\n",
       "       [ 0,  0,  0,  0,  0,  0,  0,  0,  0,  0,  0, 35,  0,  0,  0],\n",
       "       [ 0,  0,  0,  0,  0,  0,  0,  0,  0,  0,  0,  0, 26,  0,  0],\n",
       "       [ 0,  0,  0,  0,  0,  0,  0,  0,  0,  0,  0,  0,  0, 23,  0],\n",
       "       [ 0,  0,  0,  0,  0,  0,  0,  0,  0,  0,  0,  0,  0,  0, 30]])"
      ]
     },
     "execution_count": 45,
     "metadata": {},
     "output_type": "execute_result"
    }
   ],
   "source": [
    "confusion_matrix(y, y_pred)"
   ]
  },
  {
   "cell_type": "code",
   "execution_count": null,
   "id": "2b97aba1-9bf8-4b85-88dd-fec9f683a9f5",
   "metadata": {},
   "outputs": [],
   "source": []
  }
 ],
 "metadata": {
  "kernelspec": {
   "display_name": "conda_python3",
   "language": "python",
   "name": "conda_python3"
  },
  "language_info": {
   "codemirror_mode": {
    "name": "ipython",
    "version": 3
   },
   "file_extension": ".py",
   "mimetype": "text/x-python",
   "name": "python",
   "nbconvert_exporter": "python",
   "pygments_lexer": "ipython3",
   "version": "3.10.10"
  }
 },
 "nbformat": 4,
 "nbformat_minor": 5
}
